{
 "cells": [
  {
   "cell_type": "markdown",
   "id": "e52ab140",
   "metadata": {},
   "source": [
    "# 1. Import Dependancies"
   ]
  },
  {
   "cell_type": "code",
   "execution_count": 1,
   "id": "05bfc342",
   "metadata": {},
   "outputs": [
    {
     "name": "stdout",
     "output_type": "stream",
     "text": [
      "Requirement already satisfied: opencv-python in d:\\nuthara_n_r\\uom\\tensorflow\\project_1\\project\\lib\\site-packages (4.6.0.66)\n",
      "Requirement already satisfied: numpy>=1.13.3 in d:\\nuthara_n_r\\uom\\tensorflow\\project_1\\project\\lib\\site-packages (from opencv-python) (1.19.5)\n"
     ]
    }
   ],
   "source": [
    "!pip install opencv-python"
   ]
  },
  {
   "cell_type": "code",
   "execution_count": 2,
   "id": "aee3ad2b",
   "metadata": {},
   "outputs": [],
   "source": [
    "# import libraries and dependancies\n",
    "import cv2\n",
    "import uuid # uniqure id for objects, can name imagers uniquely, no overlaps\n",
    "import os\n",
    "import time"
   ]
  },
  {
   "cell_type": "markdown",
   "id": "72c57414",
   "metadata": {},
   "source": [
    "# 2.Define Images to Collect"
   ]
  },
  {
   "cell_type": "code",
   "execution_count": 3,
   "id": "de56f046",
   "metadata": {},
   "outputs": [],
   "source": [
    "labels = ['thumbsup', 'thumbsdown', 'thankyou', 'livelong']\n",
    "number_imgs = 5"
   ]
  },
  {
   "cell_type": "markdown",
   "id": "d3153836",
   "metadata": {},
   "source": [
    "# 3.Set-up Folders"
   ]
  },
  {
   "cell_type": "code",
   "execution_count": 4,
   "id": "9ecf644b",
   "metadata": {},
   "outputs": [],
   "source": [
    "IMAGES_PATH = os.path.join('Tensorflow', 'workspace', 'images', 'collected_images')"
   ]
  },
  {
   "cell_type": "code",
   "execution_count": 7,
   "id": "abe0e2c9",
   "metadata": {},
   "outputs": [
    {
     "data": {
      "text/plain": [
       "'nt'"
      ]
     },
     "execution_count": 7,
     "metadata": {},
     "output_type": "execute_result"
    }
   ],
   "source": [
    "os.name"
   ]
  },
  {
   "cell_type": "code",
   "execution_count": 8,
   "id": "5fd6cc8b",
   "metadata": {},
   "outputs": [],
   "source": [
    "if not os.path.exists(IMAGES_PATH):\n",
    "    if os.name == 'posix': # if the system is linux\n",
    "        !mkdir -p {IMAGES_PATH}\n",
    "    if os.name == 'nt': # if the system is windows\n",
    "        !mkdir {IMAGES_PATH}\n",
    "for label in labels:\n",
    "    path = os.path.join(IMAGES_PATH,label)\n",
    "    if not os.path.exists(path):\n",
    "        !mkdir {path}\n",
    "        "
   ]
  },
  {
   "cell_type": "markdown",
   "id": "54507a61",
   "metadata": {},
   "source": [
    "# 4. Capture Images"
   ]
  },
  {
   "cell_type": "code",
   "execution_count": 12,
   "id": "7ad0778a",
   "metadata": {},
   "outputs": [
    {
     "name": "stdout",
     "output_type": "stream",
     "text": [
      "Collecting Images for thumbsup\n",
      "Collecting image 0\n",
      "Collecting image 1\n",
      "Collecting image 2\n"
     ]
    },
    {
     "ename": "KeyboardInterrupt",
     "evalue": "",
     "output_type": "error",
     "traceback": [
      "\u001b[1;31m---------------------------------------------------------------------------\u001b[0m",
      "\u001b[1;31mKeyboardInterrupt\u001b[0m                         Traceback (most recent call last)",
      "\u001b[1;32m<ipython-input-12-e949542fffb0>\u001b[0m in \u001b[0;36m<module>\u001b[1;34m\u001b[0m\n\u001b[0;32m      9\u001b[0m         \u001b[0mcv2\u001b[0m\u001b[1;33m.\u001b[0m\u001b[0mimwrite\u001b[0m\u001b[1;33m(\u001b[0m\u001b[0mimg_name\u001b[0m\u001b[1;33m,\u001b[0m \u001b[0mframe\u001b[0m\u001b[1;33m)\u001b[0m\u001b[1;33m\u001b[0m\u001b[1;33m\u001b[0m\u001b[0m\n\u001b[0;32m     10\u001b[0m         \u001b[0mcv2\u001b[0m\u001b[1;33m.\u001b[0m\u001b[0mimshow\u001b[0m\u001b[1;33m(\u001b[0m\u001b[1;34m'frame'\u001b[0m\u001b[1;33m,\u001b[0m \u001b[0mframe\u001b[0m\u001b[1;33m)\u001b[0m\u001b[1;33m\u001b[0m\u001b[1;33m\u001b[0m\u001b[0m\n\u001b[1;32m---> 11\u001b[1;33m         \u001b[0mtime\u001b[0m\u001b[1;33m.\u001b[0m\u001b[0msleep\u001b[0m\u001b[1;33m(\u001b[0m\u001b[1;36m2\u001b[0m\u001b[1;33m)\u001b[0m\u001b[1;33m\u001b[0m\u001b[1;33m\u001b[0m\u001b[0m\n\u001b[0m\u001b[0;32m     12\u001b[0m \u001b[1;33m\u001b[0m\u001b[0m\n\u001b[0;32m     13\u001b[0m         \u001b[1;32mif\u001b[0m \u001b[0mcv2\u001b[0m\u001b[1;33m.\u001b[0m\u001b[0mwaitKey\u001b[0m\u001b[1;33m(\u001b[0m\u001b[1;36m1\u001b[0m\u001b[1;33m)\u001b[0m \u001b[1;33m&\u001b[0m \u001b[1;36m0xff\u001b[0m \u001b[1;33m==\u001b[0m \u001b[0mord\u001b[0m\u001b[1;33m(\u001b[0m\u001b[1;34m'q'\u001b[0m\u001b[1;33m)\u001b[0m\u001b[1;33m:\u001b[0m\u001b[1;33m\u001b[0m\u001b[1;33m\u001b[0m\u001b[0m\n",
      "\u001b[1;31mKeyboardInterrupt\u001b[0m: "
     ]
    }
   ],
   "source": [
    "for label in labels:\n",
    "    cap = cv2.VideoCapture(0) # connects to our webcam or capture device\n",
    "    print('Collecting Images for {}'.format(label))\n",
    "    time.sleep(5) \n",
    "    for img_num in range(number_imgs):\n",
    "        print('Collecting image {}'.format(img_num))\n",
    "        ret, frame = cap.read()\n",
    "        img_name  = os.path.join(IMAGES_PATH, label,label+'.'+'{}.jpg'.format(str(uuid.uuid1())))\n",
    "        cv2.imwrite(img_name, frame)\n",
    "        cv2.imshow('frame', frame)\n",
    "        time.sleep(2)\n",
    "        \n",
    "        if cv2.waitKey(1) & 0xff == ord('q'):\n",
    "            break\n",
    "cap.release()\n",
    "cv2.destroyAllWindows()"
   ]
  },
  {
   "cell_type": "markdown",
   "id": "707eab73",
   "metadata": {},
   "source": [
    "# 5. Image Labeling"
   ]
  },
  {
   "cell_type": "code",
   "execution_count": 14,
   "id": "427eee52",
   "metadata": {},
   "outputs": [
    {
     "name": "stdout",
     "output_type": "stream",
     "text": [
      "Collecting pyqt5\n",
      "  Downloading PyQt5-5.15.6-cp36-abi3-win_amd64.whl (6.7 MB)\n",
      "Collecting lxml\n",
      "  Downloading lxml-4.9.3-cp36-cp36m-win_amd64.whl (3.8 MB)\n",
      "Collecting PyQt5-Qt5>=5.15.2\n",
      "  Downloading PyQt5_Qt5-5.15.2-py3-none-win_amd64.whl (50.1 MB)\n",
      "Collecting PyQt5-sip<13,>=12.8\n",
      "  Downloading PyQt5_sip-12.9.1-cp36-cp36m-win_amd64.whl (83 kB)\n",
      "Installing collected packages: PyQt5-sip, PyQt5-Qt5, pyqt5, lxml\n",
      "Successfully installed PyQt5-Qt5-5.15.2 PyQt5-sip-12.9.1 lxml-4.9.3 pyqt5-5.15.6\n"
     ]
    }
   ],
   "source": [
    "! pip install --upgrade pyqt5 lxml"
   ]
  },
  {
   "cell_type": "code",
   "execution_count": 15,
   "id": "f315db21",
   "metadata": {
    "scrolled": true
   },
   "outputs": [
    {
     "name": "stdout",
     "output_type": "stream",
     "text": [
      "Package             Version\n",
      "------------------- --------\n",
      "argon2-cffi         20.1.0\n",
      "async-generator     1.10\n",
      "attrs               21.2.0\n",
      "backcall            0.2.0\n",
      "bleach              3.3.1\n",
      "cffi                1.14.6\n",
      "colorama            0.4.4\n",
      "decorator           5.0.9\n",
      "defusedxml          0.7.1\n",
      "entrypoints         0.3\n",
      "importlib-metadata  4.6.1\n",
      "ipykernel           5.5.5\n",
      "ipython             7.16.1\n",
      "ipython-genutils    0.2.0\n",
      "jedi                0.18.0\n",
      "Jinja2              3.0.1\n",
      "jsonschema          3.2.0\n",
      "jupyter-client      6.2.0\n",
      "jupyter-core        4.7.1\n",
      "jupyterlab-pygments 0.1.2\n",
      "lxml                4.9.3\n",
      "MarkupSafe          2.0.1\n",
      "mistune             0.8.4\n",
      "nbclient            0.5.3\n",
      "nbconvert           6.0.7\n",
      "nbformat            5.1.3\n",
      "nest-asyncio        1.5.1\n",
      "notebook            6.4.0\n",
      "numpy               1.19.5\n",
      "opencv-python       4.6.0.66\n",
      "packaging           21.0\n",
      "pandocfilters       1.4.3\n",
      "parso               0.8.2\n",
      "pickleshare         0.7.5\n",
      "pip                 21.3.1\n",
      "prometheus-client   0.11.0\n",
      "prompt-toolkit      3.0.19\n",
      "pycparser           2.20\n",
      "Pygments            2.9.0\n",
      "pyparsing           2.4.7\n",
      "PyQt5               5.15.6\n",
      "PyQt5-Qt5           5.15.2\n",
      "PyQt5-sip           12.9.1\n",
      "pyrsistent          0.18.0\n",
      "python-dateutil     2.8.2\n",
      "pywin32             301\n",
      "pywinpty            1.1.3\n",
      "pyzmq               22.1.0\n",
      "Send2Trash          1.7.1\n",
      "setuptools          59.6.0\n",
      "six                 1.16.0\n",
      "terminado           0.10.1\n",
      "testpath            0.5.0\n",
      "tornado             6.1\n",
      "traitlets           4.3.3\n",
      "typing-extensions   3.10.0.0\n",
      "wcwidth             0.2.5\n",
      "webencodings        0.5.1\n",
      "zipp                3.5.0\n"
     ]
    }
   ],
   "source": [
    "! pip list"
   ]
  },
  {
   "cell_type": "code",
   "execution_count": 19,
   "id": "d6db5fda",
   "metadata": {},
   "outputs": [],
   "source": [
    "LABEL_IMG_PATH = os.path.join('Tensorflow', 'labelimg')"
   ]
  },
  {
   "cell_type": "code",
   "execution_count": 23,
   "id": "f15e1957",
   "metadata": {},
   "outputs": [
    {
     "name": "stderr",
     "output_type": "stream",
     "text": [
      "Cloning into 'Tensorflow\\labelimg'...\n"
     ]
    }
   ],
   "source": [
    "if not os.path.exists(LABEL_IMG_PATH):\n",
    "    !mkdir {LABEL_IMG_PATH}\n",
    "    !git clone https://github.com/tzutalin/labelImg {LABEL_IMG_PATH} \n",
    "# open source data labeling tool"
   ]
  },
  {
   "cell_type": "code",
   "execution_count": 24,
   "id": "1c4e2b3a",
   "metadata": {},
   "outputs": [],
   "source": [
    "if os.name =='posix':\n",
    "    !cd {LABEL_IMG_PATH} && make qt5py3\n",
    "if os.name == 'nt':\n",
    "    !cd {LABEL_IMG_PATH} && pyrcc5 -o libs/resources.py resources.qrc"
   ]
  },
  {
   "cell_type": "code",
   "execution_count": 25,
   "id": "002055d6",
   "metadata": {},
   "outputs": [
    {
     "name": "stdout",
     "output_type": "stream",
     "text": [
      "Cancel creation.\n",
      "Image:D:\\Nuthara_N_R\\UOM\\TensorFlow\\Project_1\\Notebooks\\Tensorflow\\workspace\\images\\collected_images\\livelong\\livelong.001.jpg -> Annotation:D:/Nuthara_N_R/UOM/TensorFlow/Project_1/Notebooks/Tensorflow/workspace/images/collected_images/livelong\\livelong.001.xml\n",
      "Image:D:\\Nuthara_N_R\\UOM\\TensorFlow\\Project_1\\Notebooks\\Tensorflow\\workspace\\images\\collected_images\\livelong\\livelong.002.jpg -> Annotation:D:/Nuthara_N_R/UOM/TensorFlow/Project_1/Notebooks/Tensorflow/workspace/images/collected_images/livelong\\livelong.002.xml\n",
      "Image:D:\\Nuthara_N_R\\UOM\\TensorFlow\\Project_1\\Notebooks\\Tensorflow\\workspace\\images\\collected_images\\livelong\\livelong.003.jpg -> Annotation:D:/Nuthara_N_R/UOM/TensorFlow/Project_1/Notebooks/Tensorflow/workspace/images/collected_images/livelong\\livelong.003.xml\n",
      "Image:D:\\Nuthara_N_R\\UOM\\TensorFlow\\Project_1\\Notebooks\\Tensorflow\\workspace\\images\\collected_images\\livelong\\livelong.004.jpg -> Annotation:D:/Nuthara_N_R/UOM/TensorFlow/Project_1/Notebooks/Tensorflow/workspace/images/collected_images/livelong\\livelong.004.xml\n",
      "Image:D:\\Nuthara_N_R\\UOM\\TensorFlow\\Project_1\\Notebooks\\Tensorflow\\workspace\\images\\collected_images\\livelong\\livelong.005.jpg -> Annotation:D:/Nuthara_N_R/UOM/TensorFlow/Project_1/Notebooks/Tensorflow/workspace/images/collected_images/livelong\\livelong.005.xml\n",
      "Image:D:\\Nuthara_N_R\\UOM\\TensorFlow\\Project_1\\Notebooks\\Tensorflow\\workspace\\images\\collected_images\\thankyou\\thankyou.001.jpg -> Annotation:D:/Nuthara_N_R/UOM/TensorFlow/Project_1/Notebooks/Tensorflow/workspace/images/collected_images/thankyou\\thankyou.001.xml\n",
      "Image:D:\\Nuthara_N_R\\UOM\\TensorFlow\\Project_1\\Notebooks\\Tensorflow\\workspace\\images\\collected_images\\thankyou\\thankyou.002.jpg -> Annotation:D:/Nuthara_N_R/UOM/TensorFlow/Project_1/Notebooks/Tensorflow/workspace/images/collected_images/thankyou\\thankyou.002.xml\n",
      "Cancel creation.\n",
      "Image:D:\\Nuthara_N_R\\UOM\\TensorFlow\\Project_1\\Notebooks\\Tensorflow\\workspace\\images\\collected_images\\thankyou\\thankyou.003.jpg -> Annotation:D:/Nuthara_N_R/UOM/TensorFlow/Project_1/Notebooks/Tensorflow/workspace/images/collected_images/thankyou\\thankyou.003.xml\n",
      "Image:D:\\Nuthara_N_R\\UOM\\TensorFlow\\Project_1\\Notebooks\\Tensorflow\\workspace\\images\\collected_images\\thankyou\\thankyou.004.jpg -> Annotation:D:/Nuthara_N_R/UOM/TensorFlow/Project_1/Notebooks/Tensorflow/workspace/images/collected_images/thankyou\\thankyou.004.xml\n",
      "Image:D:\\Nuthara_N_R\\UOM\\TensorFlow\\Project_1\\Notebooks\\Tensorflow\\workspace\\images\\collected_images\\thankyou\\thankyou.005.jpg -> Annotation:D:/Nuthara_N_R/UOM/TensorFlow/Project_1/Notebooks/Tensorflow/workspace/images/collected_images/thankyou\\thankyou.005.xml\n",
      "Image:D:\\Nuthara_N_R\\UOM\\TensorFlow\\Project_1\\Notebooks\\Tensorflow\\workspace\\images\\collected_images\\thumbsdown\\thumbsdown.001.jpg -> Annotation:D:/Nuthara_N_R/UOM/TensorFlow/Project_1/Notebooks/Tensorflow/workspace/images/collected_images/thumbsdown\\thumbsdown.001.xml\n",
      "Image:D:\\Nuthara_N_R\\UOM\\TensorFlow\\Project_1\\Notebooks\\Tensorflow\\workspace\\images\\collected_images\\thumbsdown\\thumbsdown.002.jpg -> Annotation:D:/Nuthara_N_R/UOM/TensorFlow/Project_1/Notebooks/Tensorflow/workspace/images/collected_images/thumbsdown\\thumbsdown.002.xml\n",
      "Image:D:\\Nuthara_N_R\\UOM\\TensorFlow\\Project_1\\Notebooks\\Tensorflow\\workspace\\images\\collected_images\\thumbsdown\\thumbsdown.003.jpg -> Annotation:D:/Nuthara_N_R/UOM/TensorFlow/Project_1/Notebooks/Tensorflow/workspace/images/collected_images/thumbsdown\\thumbsdown.003.xml\n",
      "Cancel creation.\n",
      "Image:D:\\Nuthara_N_R\\UOM\\TensorFlow\\Project_1\\Notebooks\\Tensorflow\\workspace\\images\\collected_images\\thumbsdown\\thumbsdown.004.jpg -> Annotation:D:/Nuthara_N_R/UOM/TensorFlow/Project_1/Notebooks/Tensorflow/workspace/images/collected_images/thumbsdown\\thumbsdown.004.xml\n",
      "Image:D:\\Nuthara_N_R\\UOM\\TensorFlow\\Project_1\\Notebooks\\Tensorflow\\workspace\\images\\collected_images\\thumbsdown\\thumbsdown.005.jpg -> Annotation:D:/Nuthara_N_R/UOM/TensorFlow/Project_1/Notebooks/Tensorflow/workspace/images/collected_images/thumbsdown\\thumbsdown.005.xml\n",
      "Image:D:\\Nuthara_N_R\\UOM\\TensorFlow\\Project_1\\Notebooks\\Tensorflow\\workspace\\images\\collected_images\\thumbsup\\thumbsup.001.jpg -> Annotation:D:/Nuthara_N_R/UOM/TensorFlow/Project_1/Notebooks/Tensorflow/workspace/images/collected_images/thumbsup\\thumbsup.001.xml\n",
      "Image:D:\\Nuthara_N_R\\UOM\\TensorFlow\\Project_1\\Notebooks\\Tensorflow\\workspace\\images\\collected_images\\thumbsup\\thumbsup.002.jpg -> Annotation:D:/Nuthara_N_R/UOM/TensorFlow/Project_1/Notebooks/Tensorflow/workspace/images/collected_images/thumbsup\\thumbsup.002.xml\n",
      "Image:D:\\Nuthara_N_R\\UOM\\TensorFlow\\Project_1\\Notebooks\\Tensorflow\\workspace\\images\\collected_images\\thumbsup\\thumbsup.003.jpg -> Annotation:D:/Nuthara_N_R/UOM/TensorFlow/Project_1/Notebooks/Tensorflow/workspace/images/collected_images/thumbsup\\thumbsup.003.xml\n",
      "Image:D:\\Nuthara_N_R\\UOM\\TensorFlow\\Project_1\\Notebooks\\Tensorflow\\workspace\\images\\collected_images\\thumbsup\\thumbsup.004.jpg -> Annotation:D:/Nuthara_N_R/UOM/TensorFlow/Project_1/Notebooks/Tensorflow/workspace/images/collected_images/thumbsup\\thumbsup.004.xml\n",
      "Image:D:\\Nuthara_N_R\\UOM\\TensorFlow\\Project_1\\Notebooks\\Tensorflow\\workspace\\images\\collected_images\\thumbsup\\thumbsup.005.jpg -> Annotation:D:/Nuthara_N_R/UOM/TensorFlow/Project_1/Notebooks/Tensorflow/workspace/images/collected_images/thumbsup\\thumbsup.005.xml\n"
     ]
    },
    {
     "name": "stderr",
     "output_type": "stream",
     "text": [
      "Warning: QT_DEVICE_PIXEL_RATIO is deprecated. Instead use:\n",
      "   QT_AUTO_SCREEN_SCALE_FACTOR to enable platform plugin controlled per-screen factors.\n",
      "   QT_SCREEN_SCALE_FACTORS to set per-screen DPI.\n",
      "   QT_SCALE_FACTOR to set the application global scale factor.\n"
     ]
    }
   ],
   "source": [
    "!cd {LABEL_IMG_PATH} && python labelImg.py"
   ]
  },
  {
   "cell_type": "markdown",
   "id": "1e85fc1f",
   "metadata": {},
   "source": [
    "# 6. Train Test Split"
   ]
  },
  {
   "cell_type": "code",
   "execution_count": 26,
   "id": "f5c42f70",
   "metadata": {},
   "outputs": [],
   "source": [
    "# manual traain test split in folders"
   ]
  },
  {
   "cell_type": "code",
   "execution_count": null,
   "id": "ed848907",
   "metadata": {},
   "outputs": [],
   "source": []
  }
 ],
 "metadata": {
  "kernelspec": {
   "display_name": "Project",
   "language": "python",
   "name": "project"
  },
  "language_info": {
   "codemirror_mode": {
    "name": "ipython",
    "version": 3
   },
   "file_extension": ".py",
   "mimetype": "text/x-python",
   "name": "python",
   "nbconvert_exporter": "python",
   "pygments_lexer": "ipython3",
   "version": "3.6.8"
  }
 },
 "nbformat": 4,
 "nbformat_minor": 5
}
